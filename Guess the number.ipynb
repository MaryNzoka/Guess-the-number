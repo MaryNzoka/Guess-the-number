{
 "cells": [
  {
   "cell_type": "markdown",
   "id": "604318b2",
   "metadata": {},
   "source": [
    "# Guess the number"
   ]
  },
  {
   "cell_type": "code",
   "execution_count": 1,
   "id": "b578ce58",
   "metadata": {},
   "outputs": [
    {
     "name": "stdout",
     "output_type": "stream",
     "text": [
      "Guess the number (between 1 and 10): 4\n",
      "Sorry, the number was 2\n"
     ]
    }
   ],
   "source": [
    "import random \n",
    "number = random.randint(1, 10)\n",
    "guess = int(input(\"Guess the number (between 1 and 10): \"))\n",
    "if guess == number:\n",
    "    print(\"Congratulations! You guessed the number right.\")\n",
    "else: \n",
    "    print(\"Sorry, the number was\", number)"
   ]
  },
  {
   "cell_type": "code",
   "execution_count": 2,
   "id": "b3ce7f8d",
   "metadata": {},
   "outputs": [
    {
     "name": "stdout",
     "output_type": "stream",
     "text": [
      "Guess the number (between 1 and 10): 2\n",
      "Sorry, the number was 8\n"
     ]
    }
   ],
   "source": [
    "import random \n",
    "number = random.randint(1, 10)\n",
    "guess = int(input(\"Guess the number (between 1 and 10): \"))\n",
    "if guess == number:\n",
    "    print(\"Congratulations! You guessed the number right.\")\n",
    "else: \n",
    "    print(\"Sorry, the number was\", number)"
   ]
  },
  {
   "cell_type": "code",
   "execution_count": 3,
   "id": "1a4bde1b",
   "metadata": {},
   "outputs": [
    {
     "name": "stdout",
     "output_type": "stream",
     "text": [
      "Guess the number (between 1 and 10): 8\n",
      "Sorry, the number was 9\n"
     ]
    }
   ],
   "source": [
    "import random \n",
    "number = random.randint(1, 10)\n",
    "guess = int(input(\"Guess the number (between 1 and 10): \"))\n",
    "if guess == number:\n",
    "    print(\"Congratulations! You guessed the number right.\")\n",
    "else: \n",
    "    print(\"Sorry, the number was\", number)"
   ]
  },
  {
   "cell_type": "code",
   "execution_count": 4,
   "id": "4a6b02a4",
   "metadata": {},
   "outputs": [
    {
     "name": "stdout",
     "output_type": "stream",
     "text": [
      "Guess the number (between 1 and 10): 10\n",
      "Sorry, the number was 4\n"
     ]
    }
   ],
   "source": [
    "import random \n",
    "number = random.randint(1, 10)\n",
    "guess = int(input(\"Guess the number (between 1 and 10): \"))\n",
    "if guess == number:\n",
    "    print(\"Congratulations! You guessed the number right.\")\n",
    "else: \n",
    "    print(\"Sorry, the number was\", number)"
   ]
  }
 ],
 "metadata": {
  "kernelspec": {
   "display_name": "Python 3 (ipykernel)",
   "language": "python",
   "name": "python3"
  },
  "language_info": {
   "codemirror_mode": {
    "name": "ipython",
    "version": 3
   },
   "file_extension": ".py",
   "mimetype": "text/x-python",
   "name": "python",
   "nbconvert_exporter": "python",
   "pygments_lexer": "ipython3",
   "version": "3.11.2"
  }
 },
 "nbformat": 4,
 "nbformat_minor": 5
}
